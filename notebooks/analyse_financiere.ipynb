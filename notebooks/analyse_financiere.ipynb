{
 "cells": [
  {
   "cell_type": "markdown",
   "metadata": {},
   "source": [
    "# Mon 1er note book"
   ]
  },
  {
   "cell_type": "code",
   "execution_count": 28,
   "metadata": {},
   "outputs": [
    {
     "name": "stdout",
     "output_type": "stream",
     "text": [
      "yfinance a été importé avec succès.\n"
     ]
    }
   ],
   "source": [
    "import pandas as pd\n",
    "try:\n",
    "    import yfinance as yf\n",
    "    print(\"yfinance a été importé avec succès.\")\n",
    "except Exception as e:\n",
    "    print(f\"Erreur lors de l'importation de yfinance : {e}\")"
   ]
  },
  {
   "cell_type": "code",
   "execution_count": 29,
   "metadata": {},
   "outputs": [
    {
     "name": "stdout",
     "output_type": "stream",
     "text": [
      "    Portefeuille _id          ISIN     Emmeteur  \\\n",
      "0                  1  IE00BF0M2Z96          L&G   \n",
      "1                  1  IE00BKLF1R75   WisdomTree   \n",
      "2                  1  IE00BF4TWC33   WisdomTree   \n",
      "3                  1  IE0002PG6CA6        VnEck   \n",
      "4                  1  IE000U58J0M1      iShares   \n",
      "5                  1  IE000FF2EBQ8  BNP Paribas   \n",
      "6                  1  IE00B5MTYL84      Invesco   \n",
      "7                  1  IE00B5MJYX09      Invesco   \n",
      "8                  1  IE00BJXRZJ40         Rize   \n",
      "9                  1  IE00BYPLS672          L&G   \n",
      "10                 1  IE000U9ODG19      iShares   \n",
      "11                 1  IE000YYE6WK5        VnEck   \n",
      "12                 1  IE00B42NKQ00      iShares   \n",
      "13                 1  IE00B5MTWH09      Invesco   \n",
      "14                 2  LU1829221024       Amundi   \n",
      "15                 3           NaN          NaN   \n",
      "\n",
      "                                    Nom Devise Type DIST ou ACC  \\\n",
      "0                   Battery Value-Chain    USD  ETF         ACC   \n",
      "1                     Battery Solutions    USD  ETF         ACC   \n",
      "2            Industrial Metals Enhanced    USD  ETF         ACC   \n",
      "3       Rare Earth and Strategic Metals    USD  ETF         ACC   \n",
      "4                   Global Clean Energy    USD  ETF         ACC   \n",
      "5   Easy ECPI Global ESG Infrastructure    EUR  ETF         ACC   \n",
      "6            European Food & Bev Sector    EUR  ETF         ACC   \n",
      "7           European Industrials Sector    EUR  ETF         ACC   \n",
      "8        Cybersecurity and Data Privacy    USD  ETF         ACC   \n",
      "9                        Cyber Security    USD  ETF         ACC   \n",
      "10           Global Aerospace & Defence    USD  ETF         ACC   \n",
      "11                              Defense    USD  ETF         ACC   \n",
      "12                S&P 500 Energy Sector    USD  ETF         ACC   \n",
      "13            European Oil & Gas Sector    EUR  ETF         ACC   \n",
      "14                        Nasdaq-100 II    EUR  ETF         ACC   \n",
      "15                                  NaN    NaN  NaN         NaN   \n",
      "\n",
      "   Ticker_justetf Ticket_yf          Catergorie  \\\n",
      "0            BATE    BATT.L             Énergie   \n",
      "1            VOLT    CHRG.L             Énergie   \n",
      "2            XMWJ    META.L  Matières premières   \n",
      "3            REMX    REMX.L  Matières premières   \n",
      "4            INRE   INRA.AS             Énergie   \n",
      "5             ENG    ENG.PA     Infrastructures   \n",
      "6            SC03   SC03.DE        Consommation   \n",
      "7            SC0S   SC0S.DE           Industrie   \n",
      "8            RCRS    CYBP.L         Technologie   \n",
      "9            USPY    USPY.L         Technologie   \n",
      "10           DFND   DFND.AS             Défense   \n",
      "11           DFNS    IUES.L             Défense   \n",
      "12           QDVF    IUES.L             Énergie   \n",
      "13           SC0V   SC0V.DE             Énergie   \n",
      "14            UST    UST.PA            Indiciel   \n",
      "15            NaN       NaN                 NaN   \n",
      "\n",
      "                      Sous_secteur  \\\n",
      "0   Chaîne de valeur des batteries   \n",
      "1               Stockage d'énergie   \n",
      "2               Métaux industriels   \n",
      "3                     Terres rares   \n",
      "4                    Énergie verte   \n",
      "5                ESG / Stratégique   \n",
      "6              Secteur alimentaire   \n",
      "7               Biens d'équipement   \n",
      "8                    Cybersécurité   \n",
      "9                    Cybersécurité   \n",
      "10                        Armement   \n",
      "11                        Armement   \n",
      "12                         Fossile   \n",
      "13           Fossile / exploration   \n",
      "14                        Indiciel   \n",
      "15                             NaN   \n",
      "\n",
      "                                               Resumé  \n",
      "0   Focus sur la production, stockage, distributio...  \n",
      "1   Focus sur la technologie des batteries et stoc...  \n",
      "2      Exposure diversifiée (cuivre, zinc, nickel...)  \n",
      "3   Lithium, néodyme, cobalt, très critique pour t...  \n",
      "4   Producteurs et technologies d'énergie renouvel...  \n",
      "5   Focus sur infrastructures durables (énergie, t...  \n",
      "6       Focus défensif à stable en période de tension  \n",
      "7   Entreprises européennes dans le matériel et in...  \n",
      "8   Protection des données, réponse aux cyberattaques  \n",
      "9   Focus américain, cybersécurité offensive/défen...  \n",
      "10     Entreprises de défense, aérospatiale, sécurité  \n",
      "11  Ultra ciblé sur les entreprises du secteur mil...  \n",
      "12           Majors pétrolières et gazières mondiales  \n",
      "13       Sociétés d'exploration pétrolière et gazière  \n",
      "14                                           Indiciel  \n",
      "15                                                NaN  \n"
     ]
    }
   ],
   "source": [
    "df_etf = pd.read_csv(\"../src/analyse_portefeuille/Liste_ETF.csv\", sep=\";\", encoding=\"utf-8-sig\")\n",
    "print(df_etf)"
   ]
  },
  {
   "cell_type": "markdown",
   "metadata": {},
   "source": [
    "##Test extraction de donnée avec Trakers_justetf puis Trakers_yj"
   ]
  },
  {
   "cell_type": "code",
   "execution_count": 30,
   "metadata": {},
   "outputs": [
    {
     "name": "stderr",
     "output_type": "stream",
     "text": [
      "[*********************100%***********************]  1 of 1 completed\n",
      "[*********************100%***********************]  1 of 1 completed\n",
      "[*********************100%***********************]  1 of 1 completed\n",
      "\n",
      "1 Failed download:\n",
      "['XMWJ']: YFTzMissingError('possibly delisted; no timezone found')\n",
      "[*********************100%***********************]  1 of 1 completed\n",
      "[*********************100%***********************]  1 of 1 completed"
     ]
    },
    {
     "name": "stdout",
     "output_type": "stream",
     "text": [
      "Données de BATT.L :\n",
      "Price        Close     High    Low   Open Volume\n",
      "Ticker      BATT.L   BATT.L BATT.L BATT.L BATT.L\n",
      "Date                                            \n",
      "2020-06-01  8.7370  8.75400  8.613  8.674   5202\n",
      "2020-06-02  8.9250  8.99700  8.800  8.800  48759\n",
      "2020-06-03  9.3430  9.31700  9.077  9.153  70919\n",
      "2020-06-04  9.2850  9.35300  9.181  9.181   5778\n",
      "2020-06-05  9.8725  9.88195  9.659  9.705   6761\n",
      "Données de CHRG.L :\n",
      "Price             Close         High          Low         Open Volume\n",
      "Ticker           CHRG.L       CHRG.L       CHRG.L       CHRG.L CHRG.L\n",
      "Date                                                                 \n",
      "2020-06-01  1895.000000  1895.000000  1895.000000  1895.000000      0\n",
      "2020-06-02  1916.800049  1919.199951  1902.199951  1919.199951    841\n",
      "2020-06-03  1913.699951  1900.199951  1895.400024  1895.400024    341\n",
      "2020-06-04  1915.699951  1924.800049  1909.199951  1920.800049    482\n",
      "2020-06-05  1961.000000  1943.000000  1943.000000  1943.000000    146\n",
      "Aucune donnée disponible pour XMWJ\n",
      "Données de REMX :\n",
      "Price           Close       High        Low       Open Volume\n",
      "Ticker           REMX       REMX       REMX       REMX   REMX\n",
      "Date                                                         \n",
      "2020-06-01  31.223539  31.404180  30.663558  30.663558  24700\n",
      "2020-06-02  31.611912  31.765454  31.340953  31.449336  25400\n",
      "2020-06-03  32.469952  32.497046  31.855777  32.171895  20200\n",
      "2020-06-04  32.948647  33.201541  32.542207  32.650593  23200\n",
      "2020-06-05  34.366665  34.547305  33.273797  34.384729  47800\n",
      "Données de INRE :\n",
      "Price             Close         High          Low         Open Volume\n",
      "Ticker             INRE         INRE         INRE         INRE   INRE\n",
      "Date                                                                 \n",
      "2020-06-01  8453.047852  8453.047852  8453.047852  8453.047852      0\n",
      "2020-06-02  8453.047852  8453.047852  8453.047852  8453.047852      0\n",
      "2020-06-03  8453.047852  8453.047852  8453.047852  8453.047852      0\n",
      "2020-06-04  8453.047852  8453.047852  8453.047852  8453.047852      0\n",
      "2020-06-05  8453.047852  8453.047852  8453.047852  8453.047852      0\n"
     ]
    },
    {
     "name": "stderr",
     "output_type": "stream",
     "text": [
      "\n"
     ]
    }
   ],
   "source": [
    "# Liste des tickers que tu veux analyser\n",
    "tickers = [\"BATT.L\", \"CHRG.L\", \"XMWJ\", \"REMX\", \"INRE\"]\n",
    "\n",
    "# On va juste récupérer les données historiques de ces ETF pour les afficher\n",
    "for ticker in tickers:\n",
    "    try:\n",
    "        # Téléchargement des données\n",
    "        data = yf.download(ticker, start=\"2020-06-01\", end=\"2021-01-01\")\n",
    "        \n",
    "        # Vérification si des données sont disponibles\n",
    "        if data.empty:\n",
    "            print(f\"Aucune donnée disponible pour {ticker}\")\n",
    "        else:\n",
    "            # Affichage des premières lignes des données\n",
    "            print(f\"Données de {ticker} :\")\n",
    "            print(data.head())\n",
    "            \n",
    "    except Exception as e:\n",
    "        print(f\"Erreur avec {ticker}: {e}\")"
   ]
  },
  {
   "cell_type": "markdown",
   "metadata": {},
   "source": [
    "##Extraction des perf des etf sur 1 an"
   ]
  },
  {
   "cell_type": "code",
   "execution_count": 39,
   "metadata": {},
   "outputs": [
    {
     "name": "stdout",
     "output_type": "stream",
     "text": [
      "Erreur avec nan: 'float' object has no attribute 'upper'\n",
      "       Emmeteur                                  Nom Ticket_yf  Rendement_1an\n",
      "0           L&G                  Battery Value-Chain    BATT.L       0.223058\n",
      "1    WisdomTree                    Battery Solutions    CHRG.L     -11.033965\n",
      "2    WisdomTree           Industrial Metals Enhanced    META.L       4.424359\n",
      "3         VnEck      Rare Earth and Strategic Metals    REMX.L     -35.400875\n",
      "4       iShares                  Global Clean Energy   INRA.AS     -25.496092\n",
      "5   BNP Paribas  Easy ECPI Global ESG Infrastructure    ENG.PA      10.951953\n",
      "6       Invesco           European Food & Bev Sector   SC03.DE      -8.556024\n",
      "7       Invesco          European Industrials Sector   SC0S.DE      15.087767\n",
      "8          Rize       Cybersecurity and Data Privacy    CYBP.L      13.950009\n",
      "9           L&G                       Cyber Security    USPY.L      21.350208\n",
      "10      iShares           Global Aerospace & Defence   DFND.AS      16.290589\n",
      "11        VnEck                              Defense    IUES.L       2.630795\n",
      "12      iShares                S&P 500 Energy Sector    IUES.L       2.630795\n",
      "13      Invesco            European Oil & Gas Sector   SC0V.DE      -6.101759\n",
      "14       Amundi                        Nasdaq-100 II    UST.PA      35.759770\n",
      "15          NaN                                  NaN       NaN            NaN\n"
     ]
    }
   ],
   "source": [
    "def get_etf_data(ticker, start_date=\"2020-01-06\", end_date=\"2025-01-01\"):\n",
    "    etf = yf.Ticker(ticker)\n",
    "    historical_data = etf.history(start=start_date, end=end_date)\n",
    "    return historical_data\n",
    "\n",
    "def enrichir_etf_data(row):\n",
    "    ticker = row['Ticket_yf']\n",
    "    try:\n",
    "        historical_data = get_etf_data(ticker, start_date=\"2024-01-01\", end_date=\"2025-01-01\")\n",
    "        rendement_1an = (historical_data['Close'].iloc[-1] - historical_data['Close'].iloc[0]) / historical_data['Close'].iloc[0] * 100 \n",
    "        row['Rendement_1an'] = rendement_1an\n",
    "    except Exception as e:\n",
    "        row['Rendement_1an'] = None\n",
    "        print(f\"Erreur avec {ticker}: {e}\")\n",
    "    return row\n",
    "\n",
    "df_etf = df_etf.apply(enrichir_etf_data, axis=1)\n",
    "\n",
    "# Vérifier les données enrichies\n",
    "print(df_etf[['Emmeteur','Nom', 'Ticket_yf', 'Rendement_1an']])"
   ]
  }
 ],
 "metadata": {
  "kernelspec": {
   "display_name": "analyse-portefeuille-j6Hl6NXp-py3.12",
   "language": "python",
   "name": "python3"
  },
  "language_info": {
   "codemirror_mode": {
    "name": "ipython",
    "version": 3
   },
   "file_extension": ".py",
   "mimetype": "text/x-python",
   "name": "python",
   "nbconvert_exporter": "python",
   "pygments_lexer": "ipython3",
   "version": "3.12.4"
  }
 },
 "nbformat": 4,
 "nbformat_minor": 4
}
