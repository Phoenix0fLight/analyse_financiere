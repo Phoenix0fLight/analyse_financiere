{
 "cells": [
  {
   "cell_type": "markdown",
   "metadata": {},
   "source": [
    "# Analyse d'etf - economie de guerre"
   ]
  },
  {
   "cell_type": "markdown",
   "metadata": {},
   "source": [
    "# I. Importation"
   ]
  },
  {
   "cell_type": "markdown",
   "metadata": {},
   "source": [
    "### Importation Librairie"
   ]
  },
  {
   "cell_type": "code",
   "execution_count": 247,
   "metadata": {},
   "outputs": [
    {
     "name": "stdout",
     "output_type": "stream",
     "text": [
      "yfinance a été importé avec succès.\n"
     ]
    }
   ],
   "source": [
    "#Importation pandas\n",
    "import pandas as pd\n",
    "\n",
    "#Importation yfinance (avec gestion d'erreur)\n",
    "try:\n",
    "    import yfinance as yf\n",
    "    print(\"yfinance a été importé avec succès.\")\n",
    "except Exception as e:\n",
    "    print(f\"Erreur lors de l'importation de yfinance : {e}\")"
   ]
  },
  {
   "cell_type": "markdown",
   "metadata": {},
   "source": [
    "### Importation données (CSV)"
   ]
  },
  {
   "cell_type": "code",
   "execution_count": 248,
   "metadata": {},
   "outputs": [
    {
     "name": "stdout",
     "output_type": "stream",
     "text": [
      "   Portefeuille _id          ISIN    Emetteur  \\\n",
      "0                 1  IE00BF0M2Z96         L&G   \n",
      "1                 1  IE00BKLF1R75  WisdomTree   \n",
      "2                 1  IE00BF4TWC33  WisdomTree   \n",
      "3                 1  IE0002PG6CA6       VnEck   \n",
      "4                 1  IE000U58J0M1     iShares   \n",
      "\n",
      "                               Nom Devise Type DIST ou ACC Ticker_justetf  \\\n",
      "0              Battery Value-Chain    USD  ETF         ACC           BATE   \n",
      "1                Battery Solutions    USD  ETF         ACC           VOLT   \n",
      "2       Industrial Metals Enhanced    USD  ETF         ACC           XMWJ   \n",
      "3  Rare Earth and Strategic Metals    USD  ETF         ACC           REMX   \n",
      "4              Global Clean Energy    USD  ETF         ACC           INRE   \n",
      "\n",
      "  Ticket_yf          Catergorie                    Sous_secteur  \\\n",
      "0    BATT.L             Énergie  Chaîne de valeur des batteries   \n",
      "1    CHRG.L             Énergie              Stockage d'énergie   \n",
      "2    META.L  Matières premières              Métaux industriels   \n",
      "3    REMX.L  Matières premières                    Terres rares   \n",
      "4   INRA.AS             Énergie                   Énergie verte   \n",
      "\n",
      "                                                          Resumé  \n",
      "0   Focus sur la production, stockage, distribution de batteries  \n",
      "1             Focus sur la technologie des batteries et stockage  \n",
      "2                 Exposure diversifiée (cuivre, zinc, nickel...)  \n",
      "3  Lithium, néodyme, cobalt, très critique pour tech et armement  \n",
      "4             Producteurs et technologies d'énergie renouvelable  \n"
     ]
    }
   ],
   "source": [
    "df_etf = pd.read_csv(\"../src/analyse_portefeuille/Liste_ETF.csv\", sep=\";\", encoding=\"utf-8-sig\")\n",
    "print(df_etf.head())"
   ]
  },
  {
   "cell_type": "markdown",
   "metadata": {},
   "source": [
    "# II. Configuration"
   ]
  },
  {
   "cell_type": "markdown",
   "metadata": {},
   "source": [
    "### Parametres à configurer"
   ]
  },
  {
   "cell_type": "code",
   "execution_count": 249,
   "metadata": {},
   "outputs": [],
   "source": [
    "# 🎛️ Paramètres globaux de l’analyse\n",
    "# devise_a_garder = 'USD'\n",
    "date_debut = \"2021-01-01\"\n",
    "date_fin = \"2025-04-20\"\n",
    "seuil_valeurs_manquantes = 5  # En pourcentage\n",
    "# colonne_ticker = 'Ticket_yf'\n",
    "# colonne_nom = 'Nom'"
   ]
  },
  {
   "cell_type": "markdown",
   "metadata": {},
   "source": [
    "### Initalisation tableau de données exclus"
   ]
  },
  {
   "cell_type": "code",
   "execution_count": 250,
   "metadata": {},
   "outputs": [],
   "source": [
    "# Initialisation du tableau d'exclusion\n",
    "df_exclus = pd.DataFrame(columns=df_etf.columns.tolist() + ['Raison'])"
   ]
  },
  {
   "cell_type": "markdown",
   "metadata": {},
   "source": [
    "# III. Filtrage"
   ]
  },
  {
   "cell_type": "markdown",
   "metadata": {},
   "source": [
    "### Filtrage par devise"
   ]
  },
  {
   "cell_type": "code",
   "execution_count": 251,
   "metadata": {},
   "outputs": [
    {
     "name": "stdout",
     "output_type": "stream",
     "text": [
      "On garde uniquement les ETF en USD pour éviter les biais de change.\n"
     ]
    }
   ],
   "source": [
    "#filtre des valeur EUR pour eviter problemes liée au change\n",
    "\n",
    "#Paramètre : devise à garder\n",
    "devise_a_garder = 'USD'\n",
    "\n",
    "\n",
    "# Sélection des ETF avec la devise souhaitée\n",
    "etf_ko_devise = df_etf[df_etf['Devise'] != devise_a_garder].copy()\n",
    "etf_ko_devise['Raison'] = f\"Devise ≠ {devise_a_garder}\"\n",
    "\n",
    "# Garde uniquement les ETF avec la devise correcte\n",
    "df_etf = df_etf[df_etf['Devise'] == devise_a_garder]\n",
    "\n",
    "print(f\"On garde uniquement les ETF en {devise_a_garder} pour éviter les biais de change.\")"
   ]
  },
  {
   "cell_type": "code",
   "execution_count": 252,
   "metadata": {},
   "outputs": [
    {
     "name": "stdout",
     "output_type": "stream",
     "text": [
      "Tableau des valeurs exclus : \n",
      "           ISIN                                  Nom Ticket_yf        Raison\n",
      "0  IE000FF2EBQ8  Easy ECPI Global ESG Infrastructure    ENG.PA  Devise ≠ USD\n",
      "1  IE00B5MTYL84           European Food & Bev Sector   SC03.DE  Devise ≠ USD\n",
      "2  IE00B5MJYX09          European Industrials Sector   SC0S.DE  Devise ≠ USD\n",
      "3  IE00B5MTWH09            European Oil & Gas Sector   SC0V.DE  Devise ≠ USD\n"
     ]
    }
   ],
   "source": [
    "# Ajout les valeurs exlus au tableau des exclus\n",
    "df_exclus = pd.concat([df_exclus, etf_ko_devise], ignore_index=True)\n",
    "print(\"Tableau des valeurs exclus : \")\n",
    "print(df_exclus[[\"ISIN\", \"Nom\", \"Ticket_yf\", \"Raison\"]] )"
   ]
  },
  {
   "cell_type": "markdown",
   "metadata": {},
   "source": [
    "# IV. Téléchargement des donnés"
   ]
  },
  {
   "cell_type": "code",
   "execution_count": 253,
   "metadata": {},
   "outputs": [
    {
     "name": "stderr",
     "output_type": "stream",
     "text": [
      "[*********************100%***********************]  12 of 12 completed"
     ]
    },
    {
     "name": "stdout",
     "output_type": "stream",
     "text": [
      "Ticker         BATT.L   CHRG.L     CSNDX.SW    CSSPX.MI      CYBP.L  DFND.AS  \\\n",
      "Date                                                                           \n",
      "2021-01-04  16.139999  3338.25   715.700012  304.470001  519.450012      NaN   \n",
      "2021-01-05  16.538000  3377.25   717.799988  304.959991  518.750000      NaN   \n",
      "2021-01-06  17.054001  3474.50   719.500000  310.100006  517.799988      NaN   \n",
      "2021-01-07  17.464001  3626.50   727.299988  312.769989  525.599976      NaN   \n",
      "2021-01-08  17.615999  3663.00   734.900024  314.029999  536.000000      NaN   \n",
      "...               ...      ...          ...         ...         ...      ...   \n",
      "2025-04-11  14.628000  2007.50  1050.400024  492.820007  595.700012   5.9628   \n",
      "2025-04-14  15.202000  2050.50  1078.400024  506.239990  605.450012   5.9628   \n",
      "2025-04-15  15.468000  2065.75  1082.199951  510.510010  607.450012   5.9628   \n",
      "2025-04-16  15.428000  2055.25  1061.199951  502.000000  601.200012   5.9628   \n",
      "2025-04-17  15.358000  2039.00  1044.400024  495.269989  592.650024   5.9628   \n",
      "\n",
      "Ticker        INRA.AS  IUES.L      IWDA.L     META.L  REMX.L     USPY.L  \n",
      "Date                                                                     \n",
      "2021-01-04        NaN  3.3100   72.750000  28.125000     NaN  23.290001  \n",
      "2021-01-05        NaN  3.4940   72.980003  28.450001     NaN  23.260000  \n",
      "2021-01-06        NaN  3.6015   74.019997  28.680000     NaN  23.459999  \n",
      "2021-01-07        NaN  3.6335   74.559998  28.940001     NaN  23.717501  \n",
      "2021-01-08        NaN  3.6460   74.870003  28.620001     NaN  24.120001  \n",
      "...               ...     ...         ...        ...     ...        ...  \n",
      "2025-04-11  16.043301  7.7900   99.610001  32.139999  6.8980  25.700001  \n",
      "2025-04-14  16.505800  8.0950  102.699997  32.139999  7.2915  26.490000  \n",
      "2025-04-15  16.592899  8.1450  103.089996  32.255001  7.2170  26.799999  \n",
      "2025-04-16  16.632900  8.2525  102.379997  32.349998  7.2615  26.665001  \n",
      "2025-04-17  16.642500  8.3975  101.489998  32.365002  7.1750  26.059999  \n",
      "\n",
      "[1103 rows x 12 columns]\n"
     ]
    },
    {
     "name": "stderr",
     "output_type": "stream",
     "text": [
      "\n"
     ]
    }
   ],
   "source": [
    "tickers = df_etf['Ticket_yf'].dropna().unique().tolist()\n",
    "df_prices = yf.download(tickers, start=date_debut, end=date_fin)['Close']\n",
    "\n",
    "print(df_prices)"
   ]
  },
  {
   "cell_type": "markdown",
   "metadata": {},
   "source": [
    "# V. Nettoyage des données de prix"
   ]
  },
  {
   "cell_type": "code",
   "execution_count": 254,
   "metadata": {},
   "outputs": [
    {
     "name": "stdout",
     "output_type": "stream",
     "text": [
      "ETF écartés de l'analyse car plus de 5% de données manquantes :\n",
      "  Portefeuille _id          ISIN     Emetteur  \\\n",
      "0                1  IE000FF2EBQ8  BNP Paribas   \n",
      "1                1  IE00B5MTYL84      Invesco   \n",
      "2                1  IE00B5MJYX09      Invesco   \n",
      "3                1  IE00B5MTWH09      Invesco   \n",
      "4                1  IE0002PG6CA6        VnEck   \n",
      "5                1  IE000U58J0M1      iShares   \n",
      "6                1  IE000U9ODG19      iShares   \n",
      "\n",
      "                                   Nom Devise Type DIST ou ACC Ticker_justetf  \\\n",
      "0  Easy ECPI Global ESG Infrastructure    EUR  ETF         ACC            ENG   \n",
      "1           European Food & Bev Sector    EUR  ETF         ACC           SC03   \n",
      "2          European Industrials Sector    EUR  ETF         ACC           SC0S   \n",
      "3            European Oil & Gas Sector    EUR  ETF         ACC           SC0V   \n",
      "4      Rare Earth and Strategic Metals    USD  ETF         ACC           REMX   \n",
      "5                  Global Clean Energy    USD  ETF         ACC           INRE   \n",
      "6           Global Aerospace & Defence    USD  ETF         ACC           DFND   \n",
      "\n",
      "  Ticket_yf          Catergorie           Sous_secteur  \\\n",
      "0    ENG.PA     Infrastructures      ESG / Stratégique   \n",
      "1   SC03.DE        Consommation    Secteur alimentaire   \n",
      "2   SC0S.DE           Industrie     Biens d'équipement   \n",
      "3   SC0V.DE             Énergie  Fossile / exploration   \n",
      "4    REMX.L  Matières premières           Terres rares   \n",
      "5   INRA.AS             Énergie          Énergie verte   \n",
      "6   DFND.AS             Défense               Armement   \n",
      "\n",
      "                                                             Resumé  \\\n",
      "0  Focus sur infrastructures durables (énergie, transport, réseaux)   \n",
      "1                     Focus défensif à stable en période de tension   \n",
      "2       Entreprises européennes dans le matériel et infrastructures   \n",
      "3                      Sociétés d'exploration pétrolière et gazière   \n",
      "4     Lithium, néodyme, cobalt, très critique pour tech et armement   \n",
      "5                Producteurs et technologies d'énergie renouvelable   \n",
      "6                    Entreprises de défense, aérospatiale, sécurité   \n",
      "\n",
      "                             Raison  \n",
      "0                      Devise ≠ USD  \n",
      "1                      Devise ≠ USD  \n",
      "2                      Devise ≠ USD  \n",
      "3                      Devise ≠ USD  \n",
      "4  Plus de 5% de données manquantes  \n",
      "5  Plus de 5% de données manquantes  \n",
      "6  Plus de 5% de données manquantes  \n"
     ]
    },
    {
     "data": {
      "text/html": [
       "<div>\n",
       "<style scoped>\n",
       "    .dataframe tbody tr th:only-of-type {\n",
       "        vertical-align: middle;\n",
       "    }\n",
       "\n",
       "    .dataframe tbody tr th {\n",
       "        vertical-align: top;\n",
       "    }\n",
       "\n",
       "    .dataframe thead th {\n",
       "        text-align: right;\n",
       "    }\n",
       "</style>\n",
       "<table border=\"1\" class=\"dataframe\">\n",
       "  <thead>\n",
       "    <tr style=\"text-align: right;\">\n",
       "      <th>Ticker</th>\n",
       "      <th>BATT.L</th>\n",
       "      <th>CHRG.L</th>\n",
       "      <th>CSNDX.SW</th>\n",
       "      <th>CSSPX.MI</th>\n",
       "      <th>CYBP.L</th>\n",
       "      <th>IUES.L</th>\n",
       "      <th>IWDA.L</th>\n",
       "      <th>META.L</th>\n",
       "      <th>USPY.L</th>\n",
       "    </tr>\n",
       "    <tr>\n",
       "      <th>Date</th>\n",
       "      <th></th>\n",
       "      <th></th>\n",
       "      <th></th>\n",
       "      <th></th>\n",
       "      <th></th>\n",
       "      <th></th>\n",
       "      <th></th>\n",
       "      <th></th>\n",
       "      <th></th>\n",
       "    </tr>\n",
       "  </thead>\n",
       "  <tbody>\n",
       "    <tr>\n",
       "      <th>2021-01-04</th>\n",
       "      <td>16.139999</td>\n",
       "      <td>3338.25</td>\n",
       "      <td>715.700012</td>\n",
       "      <td>304.470001</td>\n",
       "      <td>519.450012</td>\n",
       "      <td>3.3100</td>\n",
       "      <td>72.750000</td>\n",
       "      <td>28.125000</td>\n",
       "      <td>23.290001</td>\n",
       "    </tr>\n",
       "    <tr>\n",
       "      <th>2021-01-05</th>\n",
       "      <td>16.538000</td>\n",
       "      <td>3377.25</td>\n",
       "      <td>717.799988</td>\n",
       "      <td>304.959991</td>\n",
       "      <td>518.750000</td>\n",
       "      <td>3.4940</td>\n",
       "      <td>72.980003</td>\n",
       "      <td>28.450001</td>\n",
       "      <td>23.260000</td>\n",
       "    </tr>\n",
       "    <tr>\n",
       "      <th>2021-01-06</th>\n",
       "      <td>17.054001</td>\n",
       "      <td>3474.50</td>\n",
       "      <td>719.500000</td>\n",
       "      <td>310.100006</td>\n",
       "      <td>517.799988</td>\n",
       "      <td>3.6015</td>\n",
       "      <td>74.019997</td>\n",
       "      <td>28.680000</td>\n",
       "      <td>23.459999</td>\n",
       "    </tr>\n",
       "    <tr>\n",
       "      <th>2021-01-07</th>\n",
       "      <td>17.464001</td>\n",
       "      <td>3626.50</td>\n",
       "      <td>727.299988</td>\n",
       "      <td>312.769989</td>\n",
       "      <td>525.599976</td>\n",
       "      <td>3.6335</td>\n",
       "      <td>74.559998</td>\n",
       "      <td>28.940001</td>\n",
       "      <td>23.717501</td>\n",
       "    </tr>\n",
       "    <tr>\n",
       "      <th>2021-01-08</th>\n",
       "      <td>17.615999</td>\n",
       "      <td>3663.00</td>\n",
       "      <td>734.900024</td>\n",
       "      <td>314.029999</td>\n",
       "      <td>536.000000</td>\n",
       "      <td>3.6460</td>\n",
       "      <td>74.870003</td>\n",
       "      <td>28.620001</td>\n",
       "      <td>24.120001</td>\n",
       "    </tr>\n",
       "  </tbody>\n",
       "</table>\n",
       "</div>"
      ],
      "text/plain": [
       "Ticker         BATT.L   CHRG.L    CSNDX.SW    CSSPX.MI      CYBP.L  IUES.L  \\\n",
       "Date                                                                         \n",
       "2021-01-04  16.139999  3338.25  715.700012  304.470001  519.450012  3.3100   \n",
       "2021-01-05  16.538000  3377.25  717.799988  304.959991  518.750000  3.4940   \n",
       "2021-01-06  17.054001  3474.50  719.500000  310.100006  517.799988  3.6015   \n",
       "2021-01-07  17.464001  3626.50  727.299988  312.769989  525.599976  3.6335   \n",
       "2021-01-08  17.615999  3663.00  734.900024  314.029999  536.000000  3.6460   \n",
       "\n",
       "Ticker         IWDA.L     META.L     USPY.L  \n",
       "Date                                         \n",
       "2021-01-04  72.750000  28.125000  23.290001  \n",
       "2021-01-05  72.980003  28.450001  23.260000  \n",
       "2021-01-06  74.019997  28.680000  23.459999  \n",
       "2021-01-07  74.559998  28.940001  23.717501  \n",
       "2021-01-08  74.870003  28.620001  24.120001  "
      ]
     },
     "execution_count": 254,
     "metadata": {},
     "output_type": "execute_result"
    }
   ],
   "source": [
    "# Pourcentage de valeurs manquantes\n",
    "missing_count = df_prices.isna().sum()\n",
    "missing_percent = missing_count / len(df_prices) * 100\n",
    "\n",
    "# On écarte les ETF avec trop de données manquantes\n",
    "etfs_valides = missing_percent[missing_percent < seuil_valeurs_manquantes].index\n",
    "etfs_exclus = missing_percent[missing_percent >= seuil_valeurs_manquantes].index\n",
    "\n",
    "df_etf_exclus_nan = df_etf[df_etf['Ticket_yf'].isin(etfs_exclus)].copy()\n",
    "df_etf_exclus_nan['Raison'] = f\"Plus de {seuil_valeurs_manquantes}% de données manquantes\"\n",
    "df_exclus = pd.concat([df_exclus, df_etf_exclus_nan], ignore_index=True)\n",
    "\n",
    "# Nettoyage\n",
    "df_prices = df_prices[etfs_valides]\n",
    "df_prices = df_prices.ffill().bfill()\n",
    "\n",
    "# Affichage\n",
    "print(\"ETF écartés de l'analyse car plus de 5% de données manquantes :\")\n",
    "print(df_exclus)\n",
    "\n",
    "# Aperçu du résultat\n",
    "df_prices.head()"
   ]
  },
  {
   "cell_type": "markdown",
   "metadata": {},
   "source": [
    "# VI. Enrichissement avec Nom_complet"
   ]
  },
  {
   "cell_type": "code",
   "execution_count": 255,
   "metadata": {},
   "outputs": [
    {
     "data": {
      "text/html": [
       "<div>\n",
       "<style scoped>\n",
       "    .dataframe tbody tr th:only-of-type {\n",
       "        vertical-align: middle;\n",
       "    }\n",
       "\n",
       "    .dataframe tbody tr th {\n",
       "        vertical-align: top;\n",
       "    }\n",
       "\n",
       "    .dataframe thead th {\n",
       "        text-align: right;\n",
       "    }\n",
       "</style>\n",
       "<table border=\"1\" class=\"dataframe\">\n",
       "  <thead>\n",
       "    <tr style=\"text-align: right;\">\n",
       "      <th></th>\n",
       "      <th>Nom_complet</th>\n",
       "      <th>Nom</th>\n",
       "    </tr>\n",
       "  </thead>\n",
       "  <tbody>\n",
       "    <tr>\n",
       "      <th>0</th>\n",
       "      <td>L&amp;G Battery Value-Chain ETF ACC USD (BATT.L | BATE) - IE00BF0M2Z96</td>\n",
       "      <td>Battery Value-Chain</td>\n",
       "    </tr>\n",
       "    <tr>\n",
       "      <th>1</th>\n",
       "      <td>WisdomTree Battery Solutions ETF ACC USD (CHRG.L | VOLT) - IE00BKLF1R75</td>\n",
       "      <td>Battery Solutions</td>\n",
       "    </tr>\n",
       "    <tr>\n",
       "      <th>2</th>\n",
       "      <td>WisdomTree Industrial Metals Enhanced ETF ACC USD (META.L | XMWJ) - IE00BF4TWC33</td>\n",
       "      <td>Industrial Metals Enhanced</td>\n",
       "    </tr>\n",
       "    <tr>\n",
       "      <th>3</th>\n",
       "      <td>VnEck Rare Earth and Strategic Metals ETF ACC USD (REMX.L | REMX) - IE0002PG6CA6</td>\n",
       "      <td>Rare Earth and Strategic Metals</td>\n",
       "    </tr>\n",
       "    <tr>\n",
       "      <th>4</th>\n",
       "      <td>iShares Global Clean Energy ETF ACC USD (INRA.AS | INRE) - IE000U58J0M1</td>\n",
       "      <td>Global Clean Energy</td>\n",
       "    </tr>\n",
       "  </tbody>\n",
       "</table>\n",
       "</div>"
      ],
      "text/plain": [
       "                                                                        Nom_complet  \\\n",
       "0                L&G Battery Value-Chain ETF ACC USD (BATT.L | BATE) - IE00BF0M2Z96   \n",
       "1           WisdomTree Battery Solutions ETF ACC USD (CHRG.L | VOLT) - IE00BKLF1R75   \n",
       "2  WisdomTree Industrial Metals Enhanced ETF ACC USD (META.L | XMWJ) - IE00BF4TWC33   \n",
       "3  VnEck Rare Earth and Strategic Metals ETF ACC USD (REMX.L | REMX) - IE0002PG6CA6   \n",
       "4           iShares Global Clean Energy ETF ACC USD (INRA.AS | INRE) - IE000U58J0M1   \n",
       "\n",
       "                               Nom  \n",
       "0              Battery Value-Chain  \n",
       "1                Battery Solutions  \n",
       "2       Industrial Metals Enhanced  \n",
       "3  Rare Earth and Strategic Metals  \n",
       "4              Global Clean Energy  "
      ]
     },
     "execution_count": 255,
     "metadata": {},
     "output_type": "execute_result"
    }
   ],
   "source": [
    "#Ajouter un nom complet\n",
    "df_etf['Nom_complet'] = df_etf.apply(\n",
    "    lambda row: f\"{row['Emetteur']} {row['Nom']} {row['Type']} {row['DIST ou ACC']} {row['Devise']} ({row['Ticket_yf']} | {row['Ticker_justetf']}) - {row['ISIN']}\",\n",
    "    axis=1\n",
    ")\n",
    "#Leve la limite d'affichage de pendas\n",
    "pd.set_option('display.max_colwidth', None)\n",
    "\n",
    "#Verification \n",
    "df_etf[['Nom_complet', 'Nom']].head()"
   ]
  },
  {
   "cell_type": "markdown",
   "metadata": {},
   "source": [
    "# V Analyse"
   ]
  },
  {
   "cell_type": "markdown",
   "metadata": {},
   "source": [
    "## Extraction des perf des etf sur 1 an"
   ]
  },
  {
   "cell_type": "code",
   "execution_count": 257,
   "metadata": {},
   "outputs": [
    {
     "name": "stdout",
     "output_type": "stream",
     "text": [
      "      Emetteur                              Nom Ticket_yf Rendement_6mois\n",
      "0          L&G              Battery Value-Chain    BATT.L         -9.16 %\n",
      "1   WisdomTree                Battery Solutions    CHRG.L         -2.73 %\n",
      "2   WisdomTree       Industrial Metals Enhanced    META.L         -6.75 %\n",
      "3        VnEck  Rare Earth and Strategic Metals    REMX.L        -11.88 %\n",
      "4      iShares              Global Clean Energy   INRA.AS        -21.35 %\n",
      "8         Rize   Cybersecurity and Data Privacy    CYBP.L         12.32 %\n",
      "9          L&G                   Cyber Security    USPY.L          6.73 %\n",
      "10     iShares       Global Aerospace & Defence   DFND.AS         -1.91 %\n",
      "11       VnEck                          Defense    IUES.L          5.14 %\n",
      "12     iShares            S&P 500 Energy Sector    IUES.L          5.14 %\n",
      "14     iShares                       Nasdaq 100  CSNDX.SW         -3.23 %\n",
      "15     iShares                          S&P 500  CSSPX.MI          0.14 %\n",
      "16     iShares                       MSCI World    IWDA.L         -1.79 %\n"
     ]
    }
   ],
   "source": [
    "#fonction qui permet de recuperer l'historique d'un ETF entre le 01-01-2020 et 01-01-2025\n",
    "def get_etf_data(ticker, start_date=\"2020-01-01\", end_date=\"2025-01-01\"):\n",
    "    etf = yf.Ticker(ticker)\n",
    "    historical_data = etf.history(start=start_date, end=end_date)\n",
    "    return historical_data\n",
    "\n",
    "#Fonction qui calcul le randement sur une periode donnée et le retourne dans une nouvelle colonne \"Randement_période\" (+ gestion d'erreur)\n",
    "def enrichir_etf_data(row):\n",
    "    ticker = row['Ticket_yf']\n",
    "    try:\n",
    "        historical_data = get_etf_data(ticker, start_date=\"2024-10-01\", end_date=\"2025-04-01\")\n",
    "        rendement_6mois = (historical_data['Close'].iloc[-1] - historical_data['Close'].iloc[0]) / historical_data['Close'].iloc[0] * 100 \n",
    "        row['Rendement_6mois'] = rendement_6mois\n",
    "    except Exception as e:\n",
    "        row['Rendement_6mois'] = None\n",
    "        print(f\"Erreur avec {ticker}: {e}\")\n",
    "    return row\n",
    "\n",
    "# On outile les fonction pour chaque ligne (axis =1)\n",
    "df_etf = df_etf.apply(enrichir_etf_data, axis=1)\n",
    "\n",
    "# Formatage de la la colonne Rendement poru avoir 2 chiffre et \"%\"\n",
    "df_etf['Rendement_6mois'] = df_etf['Rendement_6mois'].apply(lambda x: f\"{x:.2f} %\")\n",
    "\n",
    "# Vérifier les données enrichies avec seulement les colonnes utiles\n",
    "print(df_etf[['Emetteur','Nom', 'Ticket_yf', 'Rendement_6mois']])"
   ]
  },
  {
   "cell_type": "markdown",
   "metadata": {},
   "source": [
    "# Exporter les données"
   ]
  },
  {
   "cell_type": "markdown",
   "metadata": {},
   "source": [
    "Fusion avec le tableau df_etf"
   ]
  },
  {
   "cell_type": "code",
   "execution_count": null,
   "metadata": {},
   "outputs": [],
   "source": [
    "# le but c'est de remplacer le ticket par le nom mais ça marche pas et faudrai concatainer.. Donc chiant. Le mieux c'est pas de concatainé ?\n",
    "# et au pire sur powerbi ça pourra faire le lien auto entre les deux table non ?\n",
    "\n",
    "ticker_to_nom = df_etf_transpose.loc['Nom'].to_dict()\n",
    "df_prices.rename(columns=ticker_to_nom, inplace=True)  # optionnel\n",
    "\n",
    "print(df_prices)"
   ]
  },
  {
   "cell_type": "code",
   "execution_count": 211,
   "metadata": {},
   "outputs": [],
   "source": [
    "# Export des donnée dans un fichier CSV\n",
    "data.to_csv(\"prix_etf.csv\")"
   ]
  }
 ],
 "metadata": {
  "kernelspec": {
   "display_name": "Python 3 (ipykernel)",
   "language": "python",
   "name": "python3"
  },
  "language_info": {
   "codemirror_mode": {
    "name": "ipython",
    "version": 3
   },
   "file_extension": ".py",
   "mimetype": "text/x-python",
   "name": "python",
   "nbconvert_exporter": "python",
   "pygments_lexer": "ipython3",
   "version": "3.12.4"
  }
 },
 "nbformat": 4,
 "nbformat_minor": 4
}
